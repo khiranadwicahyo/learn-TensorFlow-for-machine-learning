{
  "nbformat": 4,
  "nbformat_minor": 0,
  "metadata": {
    "colab": {
      "provenance": []
    },
    "kernelspec": {
      "name": "python3",
      "display_name": "Python 3"
    },
    "language_info": {
      "name": "python"
    }
  },
  "cells": [
    {
      "cell_type": "markdown",
      "source": [
        "# Tutorial Learn TensorFlow for Machine Learning"
      ],
      "metadata": {
        "id": "J-GD2zDEZMkf"
      }
    },
    {
      "cell_type": "markdown",
      "source": [
        "Tensorflow merupakan library yang banyak digunakan untuk melakukan machine learning app. Library ini banyak digunakan karena kegunaannya yang dalam melakukan pekerjaan secara pararel. Yang mana, hal tersebut sangat dibutuhkan pada proyek machine learning.\n",
        "\n",
        "Namun, kekurangan dari tensorflow adalah kita tidak dapat sembarangan dalam melakukan import karena kebututah (requirements) yang dibutuhkan untuk menjalankan library ini dalam suatu proyek machine leraning kita harus memenuhi versi yang dibutuhkan oleh tensorflow. Jika salah satu versi library lain yang kita gunakan tidak sesuai maka tensorflow tidak dapat digunakan.\n",
        "\n",
        "---\n",
        "\n"
      ],
      "metadata": {
        "id": "TQGvyi8gaOgE"
      }
    },
    {
      "cell_type": "markdown",
      "source": [
        "## Set up TensorFlow"
      ],
      "metadata": {
        "id": "7cuUEYEpcDyH"
      }
    },
    {
      "cell_type": "code",
      "execution_count": null,
      "metadata": {
        "colab": {
          "base_uri": "https://localhost:8080/"
        },
        "id": "XkNX4MOWZA_t",
        "outputId": "e6b012b7-c3b6-4455-cc2f-877a925e6436"
      },
      "outputs": [
        {
          "output_type": "stream",
          "name": "stdout",
          "text": [
            "tf version:  2.17.1\n"
          ]
        }
      ],
      "source": [
        "import tensorflow as tf # melakukan import tensorflow\n",
        "print('tf version: ', tf.__version__) # melihat versi tensorflow yang telah terinstall"
      ]
    },
    {
      "cell_type": "code",
      "source": [
        "import numpy as np"
      ],
      "metadata": {
        "id": "75Zpur6feC1-"
      },
      "execution_count": null,
      "outputs": []
    },
    {
      "cell_type": "markdown",
      "source": [
        "## Insert basic operations\n",
        "\n"
      ],
      "metadata": {
        "id": "AuJzOVpgcJI9"
      }
    },
    {
      "cell_type": "code",
      "source": [
        "# membuat tensor\n",
        "a = tf.constant([2,3,4]) # tensor tetap\n",
        "b = tf.constant([4,5,6])\n",
        "\n",
        "# buat operasi matematika untuk menghitung inisiasi tensor\n",
        "c = a + b\n",
        "d = a * b\n",
        "\n",
        "print('tensor a: ', a)\n",
        "print('tensor b: ', b)\n",
        "print('penjumlahan: ', c)\n",
        "print('perkalian: ', d)"
      ],
      "metadata": {
        "colab": {
          "base_uri": "https://localhost:8080/"
        },
        "id": "4ncrfGpSaLDd",
        "outputId": "dcc23324-1da6-48bd-bde9-ff17798f258f"
      },
      "execution_count": null,
      "outputs": [
        {
          "output_type": "stream",
          "name": "stdout",
          "text": [
            "tensor a:  tf.Tensor([2 3 4], shape=(3,), dtype=int32)\n",
            "tensor b:  tf.Tensor([4 5 6], shape=(3,), dtype=int32)\n",
            "penjumlahan:  tf.Tensor([ 6  8 10], shape=(3,), dtype=int32)\n",
            "perkalian:  tf.Tensor([ 8 15 24], shape=(3,), dtype=int32)\n"
          ]
        }
      ]
    },
    {
      "cell_type": "markdown",
      "source": [
        "> Dari output di atas kita bisa lihat output teridiri dari value, shape, dan dtype. Ketika menggunakan fungsi tf.constant() nilai akan bersifat tetap dan tidak dapat diubah setelah dibuat (immutable tensor). Fungsi ini hampir mirip dengan fungsi Array pada numpy. tf.constant ini digunakan untuk:\n",
        "1.   Untuk menyimpan nilai tetap\n",
        "2.   Untuk membuat input awal dari operasi tensor lainnya\n",
        "3.   Untuk membuat tensor dummy untuk melakukan pengujian dan debugging\n",
        "\n"
      ],
      "metadata": {
        "id": "hzFyE8Met5gc"
      }
    },
    {
      "cell_type": "markdown",
      "source": [
        "## Make basic model"
      ],
      "metadata": {
        "id": "XFfPJ7J_vjFO"
      }
    },
    {
      "cell_type": "code",
      "source": [
        "# buat data sederhana\n",
        "xs = np.array([-1.0, 0.0, 1.0, 2.0, 3.0, 4.0], dtype= np.float32)\n",
        "ys = np.array([-3.0, -1.0, 1.0, 3.0, 5.0, 7.0], dtype= np.float32)\n",
        "# jika diperhatikan array di atas dapat memebentuk pola y = 2x-1\n",
        "\n",
        "# buat model dasar menggunakan tensorflow\n",
        "basic_model = tf.keras.Sequential(\n",
        "    # membuat layer (disini hanya dibuat satu layer)\n",
        "    # dalam layer tersebut terdapat 1 neuron yang diinisiasi sebagai units=1\n",
        "    # kemudian dalam input neuron kita perlu menginput 1 nilai yaitu x pada pola y = 2x+1\n",
        "    [tf.keras.layers.Dense(units=1, input_shape=[1])]\n",
        ")\n",
        "\n",
        "# eksekusi model\n",
        "# kunci dalam melakukan eksekusi model terdapat 2 fungsi utama loss dan optimizer\n",
        "# yang dilakukan pada code ini mesin akan menebak relasi atau hubungan dari setiap angka\n",
        "# ketika mesin telah menemukan prediksi dari relasi atau pola dari setiap angka adalah y = 2x+1\n",
        "# mesin akan melatih apakah prediksi tersebut bagus atau tidak menggunakan fungsi loss\n",
        "# dan dengan bantuan optimizer untuk melakukan prediksi lainnya\n",
        "# logika ini akan melakukan terus menerus hingga menemukan pola yang benar\n",
        "basic_model.compile(optimizer='sgd', loss='mean_squared_error')\n",
        "\n",
        "# melatih model\n",
        "# pada code di bawah ini model akan dilakukan perulangan sebanyak 500 kali setiap kali melakukan prediksi pola\n",
        "basic_model.fit(xs, ys, epochs=500, verbose=0)\n",
        "\n",
        "# output\n",
        "# disini kita akan melakuan memasukkan nilai x=10 pada pola yang telah diprediksi\n",
        "# maka y = 2(10)-1 = 19\n",
        "print('hasil prediksi: ', basic_model.predict(np.array([10.0], dtype=np.float32)))\n"
      ],
      "metadata": {
        "colab": {
          "base_uri": "https://localhost:8080/"
        },
        "id": "inWF8DqU8xVO",
        "outputId": "a4f0fedb-ef0f-4f85-b38f-7663d750f754"
      },
      "execution_count": null,
      "outputs": [
        {
          "output_type": "stream",
          "name": "stdout",
          "text": [
            "\u001b[1m1/1\u001b[0m \u001b[32m━━━━━━━━━━━━━━━━━━━━\u001b[0m\u001b[37m\u001b[0m \u001b[1m0s\u001b[0m 61ms/step\n",
            "hasil prediksi:  [[18.984713]]\n"
          ]
        }
      ]
    },
    {
      "cell_type": "code",
      "source": [
        "# load data sederhana\n",
        "x_train = np.array([1, 2, 3, 4], dtype= np.float32)\n",
        "y_train = np.array([2, 3, 5, 7], dtype= np.float32)\n",
        "\n",
        "# membuat model linear sederhana y = wx + b\n",
        "model = tf.keras.Sequential([\n",
        "    tf.keras.layers.Dense(units = 1, input_shape=[1]) # unit = jumlah neuron\n",
        "])\n",
        "\n",
        "# kompilasi model\n",
        "model.compile(optimizer='sgd', loss='mean_squared_error')\n",
        "\n",
        "# latih model\n",
        "model.fit(x_train, y_train, epochs=200, verbose=0)\n",
        "\n",
        "# prediksi model\n",
        "# print('model untuk x=5 : ' , model.predict([5])) # output ini tidak dapat dilakukan karena struktur output [5] tidak dapat dikenali sehingga harus dilakukan konversi\n",
        "# print('model untuk x=5 : ' , model.predict(np.array([5], dtype=np.float32))) # prediksi ini menggunakan np.array\n",
        "print('model untuk x=5 : ' , model.predict(tf.constant([5], dtype=tf.float32))) # prediksi ini menggunakan tensor"
      ],
      "metadata": {
        "colab": {
          "base_uri": "https://localhost:8080/"
        },
        "id": "XDVO_MxThAaS",
        "outputId": "4d663302-abae-442e-bb2e-90d8c435e762"
      },
      "execution_count": null,
      "outputs": [
        {
          "output_type": "stream",
          "name": "stderr",
          "text": [
            "/usr/local/lib/python3.10/dist-packages/keras/src/layers/core/dense.py:87: UserWarning: Do not pass an `input_shape`/`input_dim` argument to a layer. When using Sequential models, prefer using an `Input(shape)` object as the first layer in the model instead.\n",
            "  super().__init__(activity_regularizer=activity_regularizer, **kwargs)\n"
          ]
        },
        {
          "output_type": "stream",
          "name": "stdout",
          "text": [
            "\u001b[1m1/1\u001b[0m \u001b[32m━━━━━━━━━━━━━━━━━━━━\u001b[0m\u001b[37m\u001b[0m \u001b[1m0s\u001b[0m 61ms/step\n",
            "model untuk x=5 :  [[8.214091]]\n"
          ]
        }
      ]
    },
    {
      "cell_type": "code",
      "source": [
        "model.summary()"
      ],
      "metadata": {
        "colab": {
          "base_uri": "https://localhost:8080/",
          "height": 184
        },
        "id": "PTVR5cDjTo9A",
        "outputId": "fa327ed8-e8bb-4f44-d0dc-ae9e9db62fe3"
      },
      "execution_count": null,
      "outputs": [
        {
          "output_type": "display_data",
          "data": {
            "text/plain": [
              "\u001b[1mModel: \"sequential\"\u001b[0m\n"
            ],
            "text/html": [
              "<pre style=\"white-space:pre;overflow-x:auto;line-height:normal;font-family:Menlo,'DejaVu Sans Mono',consolas,'Courier New',monospace\"><span style=\"font-weight: bold\">Model: \"sequential\"</span>\n",
              "</pre>\n"
            ]
          },
          "metadata": {}
        },
        {
          "output_type": "display_data",
          "data": {
            "text/plain": [
              "┏━━━━━━━━━━━━━━━━━━━━━━━━━━━━━━━━━━━━━━┳━━━━━━━━━━━━━━━━━━━━━━━━━━━━━┳━━━━━━━━━━━━━━━━━┓\n",
              "┃\u001b[1m \u001b[0m\u001b[1mLayer (type)                        \u001b[0m\u001b[1m \u001b[0m┃\u001b[1m \u001b[0m\u001b[1mOutput Shape               \u001b[0m\u001b[1m \u001b[0m┃\u001b[1m \u001b[0m\u001b[1m        Param #\u001b[0m\u001b[1m \u001b[0m┃\n",
              "┡━━━━━━━━━━━━━━━━━━━━━━━━━━━━━━━━━━━━━━╇━━━━━━━━━━━━━━━━━━━━━━━━━━━━━╇━━━━━━━━━━━━━━━━━┩\n",
              "│ dense (\u001b[38;5;33mDense\u001b[0m)                        │ (\u001b[38;5;45mNone\u001b[0m, \u001b[38;5;34m1\u001b[0m)                   │               \u001b[38;5;34m2\u001b[0m │\n",
              "└──────────────────────────────────────┴─────────────────────────────┴─────────────────┘\n"
            ],
            "text/html": [
              "<pre style=\"white-space:pre;overflow-x:auto;line-height:normal;font-family:Menlo,'DejaVu Sans Mono',consolas,'Courier New',monospace\">┏━━━━━━━━━━━━━━━━━━━━━━━━━━━━━━━━━━━━━━┳━━━━━━━━━━━━━━━━━━━━━━━━━━━━━┳━━━━━━━━━━━━━━━━━┓\n",
              "┃<span style=\"font-weight: bold\"> Layer (type)                         </span>┃<span style=\"font-weight: bold\"> Output Shape                </span>┃<span style=\"font-weight: bold\">         Param # </span>┃\n",
              "┡━━━━━━━━━━━━━━━━━━━━━━━━━━━━━━━━━━━━━━╇━━━━━━━━━━━━━━━━━━━━━━━━━━━━━╇━━━━━━━━━━━━━━━━━┩\n",
              "│ dense (<span style=\"color: #0087ff; text-decoration-color: #0087ff\">Dense</span>)                        │ (<span style=\"color: #00d7ff; text-decoration-color: #00d7ff\">None</span>, <span style=\"color: #00af00; text-decoration-color: #00af00\">1</span>)                   │               <span style=\"color: #00af00; text-decoration-color: #00af00\">2</span> │\n",
              "└──────────────────────────────────────┴─────────────────────────────┴─────────────────┘\n",
              "</pre>\n"
            ]
          },
          "metadata": {}
        },
        {
          "output_type": "display_data",
          "data": {
            "text/plain": [
              "\u001b[1m Total params: \u001b[0m\u001b[38;5;34m4\u001b[0m (20.00 B)\n"
            ],
            "text/html": [
              "<pre style=\"white-space:pre;overflow-x:auto;line-height:normal;font-family:Menlo,'DejaVu Sans Mono',consolas,'Courier New',monospace\"><span style=\"font-weight: bold\"> Total params: </span><span style=\"color: #00af00; text-decoration-color: #00af00\">4</span> (20.00 B)\n",
              "</pre>\n"
            ]
          },
          "metadata": {}
        },
        {
          "output_type": "display_data",
          "data": {
            "text/plain": [
              "\u001b[1m Trainable params: \u001b[0m\u001b[38;5;34m2\u001b[0m (8.00 B)\n"
            ],
            "text/html": [
              "<pre style=\"white-space:pre;overflow-x:auto;line-height:normal;font-family:Menlo,'DejaVu Sans Mono',consolas,'Courier New',monospace\"><span style=\"font-weight: bold\"> Trainable params: </span><span style=\"color: #00af00; text-decoration-color: #00af00\">2</span> (8.00 B)\n",
              "</pre>\n"
            ]
          },
          "metadata": {}
        },
        {
          "output_type": "display_data",
          "data": {
            "text/plain": [
              "\u001b[1m Non-trainable params: \u001b[0m\u001b[38;5;34m0\u001b[0m (0.00 B)\n"
            ],
            "text/html": [
              "<pre style=\"white-space:pre;overflow-x:auto;line-height:normal;font-family:Menlo,'DejaVu Sans Mono',consolas,'Courier New',monospace\"><span style=\"font-weight: bold\"> Non-trainable params: </span><span style=\"color: #00af00; text-decoration-color: #00af00\">0</span> (0.00 B)\n",
              "</pre>\n"
            ]
          },
          "metadata": {}
        },
        {
          "output_type": "display_data",
          "data": {
            "text/plain": [
              "\u001b[1m Optimizer params: \u001b[0m\u001b[38;5;34m2\u001b[0m (12.00 B)\n"
            ],
            "text/html": [
              "<pre style=\"white-space:pre;overflow-x:auto;line-height:normal;font-family:Menlo,'DejaVu Sans Mono',consolas,'Courier New',monospace\"><span style=\"font-weight: bold\"> Optimizer params: </span><span style=\"color: #00af00; text-decoration-color: #00af00\">2</span> (12.00 B)\n",
              "</pre>\n"
            ]
          },
          "metadata": {}
        }
      ]
    },
    {
      "cell_type": "markdown",
      "source": [
        "> Fungsi tf.keras.Sequential pada kode di atas merupakan implemnetasi dari neural network. Neural Network (NN) merupakan metode komputasi yang terinspirasi dari cara kerja sistem saraf manusia neuron. Dalam komputasi neural network terbagi dalam beberapa layer layaknya neuron pada manusia. Pada neuron input dari neuron kecil lain akan mengirimkan sinyal ke neuron inti dan disalurkan ke saraf lain.\n",
        "\n",
        "> Dalam NN sinyal/input yang dikirim diberikan bobot. Sehingga dalam komputasi NN biasanya terdapat layer, secara umum terdapat input layer, hidden layer, dan output layer. Input layer merupakan lapisan pertama yang mengirimkan input eksternal, jumlah input layer sama dengan jumlah feature yang ada pada data input. Sebagai contoh jika kita melakukan input gambar dengan ukuran 28x28, maka jumlah input layer terdiri dari (28x28) 784 neuron. Hidden layer, merupakan layer tempat pemrosesan terjadi yang letaknya di antara input layer dan output layer, cara kerja layer ini melakukan representasi input menjadi lebih abstrak. Namun, jumlah hidden layer begantung dari kompleksitas masalah yang ingin dipecahkan. Output layer merupakan layer output dari setiap representasi hidden layer, sebagi contoh jika represntasi yang dihasiklan adalah kategori dari 10 gambar maka output layer akan tediri dari 10 neuron.\n",
        "\n"
      ],
      "metadata": {
        "id": "wpjijefYYED2"
      }
    },
    {
      "cell_type": "markdown",
      "source": [
        "## Classification with dummy data"
      ],
      "metadata": {
        "id": "LpEamEzk2Suu"
      }
    },
    {
      "cell_type": "code",
      "source": [
        "# Klasifikasi menggunakan neural network\n",
        "# Dataset dummy (OR gate)\n",
        "j_train = np.array([[0, 0], [0, 1], [1, 0], [1, 1]], dtype=np.float32)\n",
        "z_train = np.array([[0], [1], [1], [1]], dtype=np.float32)\n",
        "\n",
        "# membuat model untuk klasifikasi\n",
        "# aktivasi model terdapat sigmoid, relu, tanh\n",
        "klaf_model = tf.keras.Sequential([\n",
        "    tf.keras.layers.Dense(units=4, activation='relu', input_shape=[2]),\n",
        "    tf.keras.layers.Dense(units=1, activation='sigmoid')\n",
        "])\n",
        "\n",
        "# kompilasi model\n",
        "klaf_model.compile(optimizer='adam', loss='binary_crossentropy', metrics=['accuracy'])\n",
        "\n",
        "# latih model\n",
        "klaf_model.fit(j_train, z_train, epochs= 100, verbose=0)\n",
        "\n",
        "# prediksi model\n",
        "print('prediksi :')\n",
        "print(klaf_model.predict(j_train))"
      ],
      "metadata": {
        "colab": {
          "base_uri": "https://localhost:8080/"
        },
        "id": "MH15x5qkhiWY",
        "outputId": "94a46d10-f40d-4cc7-fd70-8193967375a6"
      },
      "execution_count": null,
      "outputs": [
        {
          "output_type": "stream",
          "name": "stderr",
          "text": [
            "/usr/local/lib/python3.10/dist-packages/keras/src/layers/core/dense.py:87: UserWarning: Do not pass an `input_shape`/`input_dim` argument to a layer. When using Sequential models, prefer using an `Input(shape)` object as the first layer in the model instead.\n",
            "  super().__init__(activity_regularizer=activity_regularizer, **kwargs)\n"
          ]
        },
        {
          "output_type": "stream",
          "name": "stdout",
          "text": [
            "prediksi :\n",
            "\u001b[1m1/1\u001b[0m \u001b[32m━━━━━━━━━━━━━━━━━━━━\u001b[0m\u001b[37m\u001b[0m \u001b[1m0s\u001b[0m 43ms/step\n",
            "[[0.5340164 ]\n",
            " [0.6199702 ]\n",
            " [0.39649487]\n",
            " [0.4971674 ]]\n"
          ]
        }
      ]
    },
    {
      "cell_type": "code",
      "source": [
        "klaf_model.summary()"
      ],
      "metadata": {
        "colab": {
          "base_uri": "https://localhost:8080/",
          "height": 218
        },
        "id": "dQ3QXxULTqeE",
        "outputId": "b8e2a4a3-da32-47c9-bf90-1ad4ea00411f"
      },
      "execution_count": null,
      "outputs": [
        {
          "output_type": "display_data",
          "data": {
            "text/plain": [
              "\u001b[1mModel: \"sequential_2\"\u001b[0m\n"
            ],
            "text/html": [
              "<pre style=\"white-space:pre;overflow-x:auto;line-height:normal;font-family:Menlo,'DejaVu Sans Mono',consolas,'Courier New',monospace\"><span style=\"font-weight: bold\">Model: \"sequential_2\"</span>\n",
              "</pre>\n"
            ]
          },
          "metadata": {}
        },
        {
          "output_type": "display_data",
          "data": {
            "text/plain": [
              "┏━━━━━━━━━━━━━━━━━━━━━━━━━━━━━━━━━━━━━━┳━━━━━━━━━━━━━━━━━━━━━━━━━━━━━┳━━━━━━━━━━━━━━━━━┓\n",
              "┃\u001b[1m \u001b[0m\u001b[1mLayer (type)                        \u001b[0m\u001b[1m \u001b[0m┃\u001b[1m \u001b[0m\u001b[1mOutput Shape               \u001b[0m\u001b[1m \u001b[0m┃\u001b[1m \u001b[0m\u001b[1m        Param #\u001b[0m\u001b[1m \u001b[0m┃\n",
              "┡━━━━━━━━━━━━━━━━━━━━━━━━━━━━━━━━━━━━━━╇━━━━━━━━━━━━━━━━━━━━━━━━━━━━━╇━━━━━━━━━━━━━━━━━┩\n",
              "│ dense_3 (\u001b[38;5;33mDense\u001b[0m)                      │ (\u001b[38;5;45mNone\u001b[0m, \u001b[38;5;34m4\u001b[0m)                   │              \u001b[38;5;34m12\u001b[0m │\n",
              "├──────────────────────────────────────┼─────────────────────────────┼─────────────────┤\n",
              "│ dense_4 (\u001b[38;5;33mDense\u001b[0m)                      │ (\u001b[38;5;45mNone\u001b[0m, \u001b[38;5;34m1\u001b[0m)                   │               \u001b[38;5;34m5\u001b[0m │\n",
              "└──────────────────────────────────────┴─────────────────────────────┴─────────────────┘\n"
            ],
            "text/html": [
              "<pre style=\"white-space:pre;overflow-x:auto;line-height:normal;font-family:Menlo,'DejaVu Sans Mono',consolas,'Courier New',monospace\">┏━━━━━━━━━━━━━━━━━━━━━━━━━━━━━━━━━━━━━━┳━━━━━━━━━━━━━━━━━━━━━━━━━━━━━┳━━━━━━━━━━━━━━━━━┓\n",
              "┃<span style=\"font-weight: bold\"> Layer (type)                         </span>┃<span style=\"font-weight: bold\"> Output Shape                </span>┃<span style=\"font-weight: bold\">         Param # </span>┃\n",
              "┡━━━━━━━━━━━━━━━━━━━━━━━━━━━━━━━━━━━━━━╇━━━━━━━━━━━━━━━━━━━━━━━━━━━━━╇━━━━━━━━━━━━━━━━━┩\n",
              "│ dense_3 (<span style=\"color: #0087ff; text-decoration-color: #0087ff\">Dense</span>)                      │ (<span style=\"color: #00d7ff; text-decoration-color: #00d7ff\">None</span>, <span style=\"color: #00af00; text-decoration-color: #00af00\">4</span>)                   │              <span style=\"color: #00af00; text-decoration-color: #00af00\">12</span> │\n",
              "├──────────────────────────────────────┼─────────────────────────────┼─────────────────┤\n",
              "│ dense_4 (<span style=\"color: #0087ff; text-decoration-color: #0087ff\">Dense</span>)                      │ (<span style=\"color: #00d7ff; text-decoration-color: #00d7ff\">None</span>, <span style=\"color: #00af00; text-decoration-color: #00af00\">1</span>)                   │               <span style=\"color: #00af00; text-decoration-color: #00af00\">5</span> │\n",
              "└──────────────────────────────────────┴─────────────────────────────┴─────────────────┘\n",
              "</pre>\n"
            ]
          },
          "metadata": {}
        },
        {
          "output_type": "display_data",
          "data": {
            "text/plain": [
              "\u001b[1m Total params: \u001b[0m\u001b[38;5;34m53\u001b[0m (216.00 B)\n"
            ],
            "text/html": [
              "<pre style=\"white-space:pre;overflow-x:auto;line-height:normal;font-family:Menlo,'DejaVu Sans Mono',consolas,'Courier New',monospace\"><span style=\"font-weight: bold\"> Total params: </span><span style=\"color: #00af00; text-decoration-color: #00af00\">53</span> (216.00 B)\n",
              "</pre>\n"
            ]
          },
          "metadata": {}
        },
        {
          "output_type": "display_data",
          "data": {
            "text/plain": [
              "\u001b[1m Trainable params: \u001b[0m\u001b[38;5;34m17\u001b[0m (68.00 B)\n"
            ],
            "text/html": [
              "<pre style=\"white-space:pre;overflow-x:auto;line-height:normal;font-family:Menlo,'DejaVu Sans Mono',consolas,'Courier New',monospace\"><span style=\"font-weight: bold\"> Trainable params: </span><span style=\"color: #00af00; text-decoration-color: #00af00\">17</span> (68.00 B)\n",
              "</pre>\n"
            ]
          },
          "metadata": {}
        },
        {
          "output_type": "display_data",
          "data": {
            "text/plain": [
              "\u001b[1m Non-trainable params: \u001b[0m\u001b[38;5;34m0\u001b[0m (0.00 B)\n"
            ],
            "text/html": [
              "<pre style=\"white-space:pre;overflow-x:auto;line-height:normal;font-family:Menlo,'DejaVu Sans Mono',consolas,'Courier New',monospace\"><span style=\"font-weight: bold\"> Non-trainable params: </span><span style=\"color: #00af00; text-decoration-color: #00af00\">0</span> (0.00 B)\n",
              "</pre>\n"
            ]
          },
          "metadata": {}
        },
        {
          "output_type": "display_data",
          "data": {
            "text/plain": [
              "\u001b[1m Optimizer params: \u001b[0m\u001b[38;5;34m36\u001b[0m (148.00 B)\n"
            ],
            "text/html": [
              "<pre style=\"white-space:pre;overflow-x:auto;line-height:normal;font-family:Menlo,'DejaVu Sans Mono',consolas,'Courier New',monospace\"><span style=\"font-weight: bold\"> Optimizer params: </span><span style=\"color: #00af00; text-decoration-color: #00af00\">36</span> (148.00 B)\n",
              "</pre>\n"
            ]
          },
          "metadata": {}
        }
      ]
    },
    {
      "cell_type": "markdown",
      "source": [
        "> Pada kode di atas atribut activation berfungsi untuk memilih model apa yang ingin digunakan dalam menghitung output dari neuron berdasarkan input yang diterima. Biasnya hasil dari aktivasi tidak bersifat linear, sehingga terkadang diperlukan model untuk menghitung model yang lebih kompleks\n",
        "\n",
        "> Terdapat beberap jenis fungsi aktivasi yang digunakan:\n",
        "1.   Sigmoid: memiliki rentan nilai dari 0 hingga 1.\n",
        "2.   ReLU: memiliki nilai output positif sesuai dengan positif yaitu 1, sebaliknya jika negatif maka 0.\n",
        "3.   Tanh: memiliki rentan nilai -1 hingga 1.\n",
        "\n",
        "> Biasanya sigmoid digunakan dalam klasifikasi biner. ReLU (restricted linear unit), fungsi ini biasa digunakan untuk masalah regresi dan klasifikasi. Tanh, fungsi ini biasa digunakan pada hidden layer untuk menghasilkan represntasi yang simeteris terhadap nilai 0."
      ],
      "metadata": {
        "id": "Zhh50ARwgLlA"
      }
    },
    {
      "cell_type": "markdown",
      "source": [
        ">"
      ],
      "metadata": {
        "id": "zp_C997RgAVJ"
      }
    },
    {
      "cell_type": "markdown",
      "source": [],
      "metadata": {
        "id": "32IV9vjNfiHW"
      }
    }
  ]
}